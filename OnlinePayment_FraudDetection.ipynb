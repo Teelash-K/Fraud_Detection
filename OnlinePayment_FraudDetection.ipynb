{
  "cells": [
    {
      "cell_type": "markdown",
      "metadata": {
        "id": "KVHY7oT6qfB8"
      },
      "source": [
        "# PHASE ONE:\n",
        "\n",
        "<b>TOPIC: ONLINE PAYMENT FRAUD DETECTION</b>"
      ]
    },
    {
      "cell_type": "markdown",
      "metadata": {
        "id": "4SU1ywxgQOde"
      },
      "source": [
        "# Stage one: Problem Definition\n",
        "<div style=\"position:relative\">\n",
        "  <div style=\"margin-top:50px\">\n",
        "  \n",
        "  <b>Background:</b> Online payment fraud is a significant concern for financial institutions, e-commerce platforms, and consumers. Fraudsters continually devise new methods to exploit vulnerabilities in online payment systems, resulting in financial losses and security breaches. It is imperative to develop advanced fraud detection systems to protect consumers and businesses from fraudulent online transactions.\n",
        "\n",
        "  <b>Problem Statement: </b>Online payment fraud poses a critical threat to financial institutions, e-commerce platforms, and consumers alike. Fraudsters persistently devise novel tactics to exploit vulnerabilities in online payment systems, resulting in substantial financial losses and security breaches. There exists an urgent need to construct cutting-edge fraud detection systems that can safeguard consumers and businesses against deceitful online transactions.\n",
        "  \n",
        "  <b>Project Objective:</b> The primary objective of this project is to develop a robust online payment fraud detection system that can swiftly identify and prevent fraudulent transactions in real-time. The system's scope encompasses the scrutiny of diverse online payment transactions, including credit card payments, digital wallet transfers, and online banking transactions.</b>.\n",
        "    </p>\n",
        "  </div>\n",
        "      <p>\n",
        "          <img src=\"https://dailyalts.com/wp-content/uploads/2021/05/online-4533485_640.jpg\"  >\n",
        "      </p>\n",
        "\n",
        "    \n",
        "</div>"
      ]
    },
    {
      "cell_type": "markdown",
      "metadata": {
        "id": "13dreSJFrRIg"
      },
      "source": [
        "<h2>Stage Two: Project Idea Validation</h2>\n",
        "\n",
        "<h4>The project idea was validated by my instructor</h4>\n"
      ]
    },
    {
      "cell_type": "markdown",
      "metadata": {
        "id": "93P5wR-frp1N"
      },
      "source": [
        "<h2>Stage Three: Data Gathering</h2>"
      ]
    },
    {
      "cell_type": "code",
      "execution_count": 46,
      "metadata": {
        "id": "4J8O3aRBP_vT"
      },
      "outputs": [],
      "source": [
        "import pandas as pd\n",
        "import numpy as np\n",
        "import matplotlib.pyplot as plt\n",
        "%matplotlib inline\n",
        "import seaborn as sns\n",
        "import warnings\n",
        "warnings.filterwarnings('ignore')\n",
        "from sklearn.model_selection import train_test_split\n",
        "from sklearn.metrics import r2_score"
      ]
    },
    {
      "cell_type": "code",
      "execution_count": 47,
      "metadata": {
        "colab": {
          "base_uri": "https://localhost:8080/",
          "height": 132
        },
        "id": "J3-lTIMRQUYi",
        "outputId": "986d87e6-f9be-4d08-8dec-fcb069e0b673"
      },
      "outputs": [
        {
          "data": {
            "text/html": [
              "<div>\n",
              "<style scoped>\n",
              "    .dataframe tbody tr th:only-of-type {\n",
              "        vertical-align: middle;\n",
              "    }\n",
              "\n",
              "    .dataframe tbody tr th {\n",
              "        vertical-align: top;\n",
              "    }\n",
              "\n",
              "    .dataframe thead th {\n",
              "        text-align: right;\n",
              "    }\n",
              "</style>\n",
              "<table border=\"1\" class=\"dataframe\">\n",
              "  <thead>\n",
              "    <tr style=\"text-align: right;\">\n",
              "      <th></th>\n",
              "      <th>step</th>\n",
              "      <th>type</th>\n",
              "      <th>amount</th>\n",
              "      <th>nameOrig</th>\n",
              "      <th>oldbalanceOrg</th>\n",
              "      <th>newbalanceOrig</th>\n",
              "      <th>nameDest</th>\n",
              "      <th>oldbalanceDest</th>\n",
              "      <th>newbalanceDest</th>\n",
              "      <th>isFraud</th>\n",
              "      <th>isFlaggedFraud</th>\n",
              "    </tr>\n",
              "  </thead>\n",
              "  <tbody>\n",
              "    <tr>\n",
              "      <th>0</th>\n",
              "      <td>1</td>\n",
              "      <td>PAYMENT</td>\n",
              "      <td>9839.64</td>\n",
              "      <td>C1231006815</td>\n",
              "      <td>170136.0</td>\n",
              "      <td>160296.36</td>\n",
              "      <td>M1979787155</td>\n",
              "      <td>0.0</td>\n",
              "      <td>0.0</td>\n",
              "      <td>0</td>\n",
              "      <td>0</td>\n",
              "    </tr>\n",
              "    <tr>\n",
              "      <th>1</th>\n",
              "      <td>1</td>\n",
              "      <td>PAYMENT</td>\n",
              "      <td>1864.28</td>\n",
              "      <td>C1666544295</td>\n",
              "      <td>21249.0</td>\n",
              "      <td>19384.72</td>\n",
              "      <td>M2044282225</td>\n",
              "      <td>0.0</td>\n",
              "      <td>0.0</td>\n",
              "      <td>0</td>\n",
              "      <td>0</td>\n",
              "    </tr>\n",
              "  </tbody>\n",
              "</table>\n",
              "</div>"
            ],
            "text/plain": [
              "   step     type   amount     nameOrig  oldbalanceOrg  newbalanceOrig  \\\n",
              "0     1  PAYMENT  9839.64  C1231006815       170136.0       160296.36   \n",
              "1     1  PAYMENT  1864.28  C1666544295        21249.0        19384.72   \n",
              "\n",
              "      nameDest  oldbalanceDest  newbalanceDest  isFraud  isFlaggedFraud  \n",
              "0  M1979787155             0.0             0.0        0               0  \n",
              "1  M2044282225             0.0             0.0        0               0  "
            ]
          },
          "execution_count": 47,
          "metadata": {},
          "output_type": "execute_result"
        }
      ],
      "source": [
        "data = pd.read_csv('onlinefraud.csv')\n",
        "data.head(2)"
      ]
    },
    {
      "cell_type": "markdown",
      "metadata": {
        "id": "USNd2w35wDBJ"
      },
      "source": [
        "<h2>Stage Three: Exploratory Data Analysis</h2>"
      ]
    },
    {
      "cell_type": "code",
      "execution_count": 48,
      "metadata": {},
      "outputs": [
        {
          "data": {
            "text/plain": [
              "type\n",
              "CASH_OUT    2237500\n",
              "PAYMENT     2151495\n",
              "CASH_IN     1399284\n",
              "TRANSFER     532909\n",
              "DEBIT         41432\n",
              "Name: count, dtype: int64"
            ]
          },
          "execution_count": 48,
          "metadata": {},
          "output_type": "execute_result"
        }
      ],
      "source": [
        "data.type.value_counts()"
      ]
    },
    {
      "cell_type": "code",
      "execution_count": 49,
      "metadata": {
        "colab": {
          "base_uri": "https://localhost:8080/"
        },
        "id": "cnoSeTBmR7nX",
        "outputId": "9a4931fb-fc6f-41d7-ce87-a70464585be1"
      },
      "outputs": [
        {
          "data": {
            "text/plain": [
              "(6362620, 11)"
            ]
          },
          "execution_count": 49,
          "metadata": {},
          "output_type": "execute_result"
        }
      ],
      "source": [
        "data.shape"
      ]
    },
    {
      "cell_type": "markdown",
      "metadata": {
        "id": "XLugHPPaKB2s"
      },
      "source": [
        "Below are all the columns from the dataset:\n",
        "\n",
        "<b>step:</b> represents a unit of time where 1 step equals 1 hour\n",
        "\n",
        "<b>type:</b> type of online transaction\n",
        "\n",
        "<b>amount:</b> the amount of the transaction\n",
        "\n",
        "<b>nameOrig:</b> customer starting the transaction\n",
        "\n",
        "<b>oldbalanceOrg:</b> balance before the transaction\n",
        "\n",
        "<b>newbalanceOrig:</b> balance after the transaction\n",
        "\n",
        "<b>nameDest:</b> recipient of the transaction\n",
        "\n",
        "<b>oldbalanceDest:</b> initial balance of recipient before the transaction\n",
        "\n",
        "<b>newbalanceDest:</b> the new balance of recipient after the transaction\n",
        "\n",
        "<b>isFraud:</b> fraud transaction"
      ]
    },
    {
      "cell_type": "code",
      "execution_count": 50,
      "metadata": {
        "colab": {
          "base_uri": "https://localhost:8080/",
          "height": 320
        },
        "id": "2lsJy2TyshqH",
        "outputId": "b78ae1d2-bfb1-4e1e-dc76-586896167b31"
      },
      "outputs": [
        {
          "data": {
            "text/html": [
              "<div>\n",
              "<style scoped>\n",
              "    .dataframe tbody tr th:only-of-type {\n",
              "        vertical-align: middle;\n",
              "    }\n",
              "\n",
              "    .dataframe tbody tr th {\n",
              "        vertical-align: top;\n",
              "    }\n",
              "\n",
              "    .dataframe thead th {\n",
              "        text-align: right;\n",
              "    }\n",
              "</style>\n",
              "<table border=\"1\" class=\"dataframe\">\n",
              "  <thead>\n",
              "    <tr style=\"text-align: right;\">\n",
              "      <th></th>\n",
              "      <th>step</th>\n",
              "      <th>amount</th>\n",
              "      <th>oldbalanceOrg</th>\n",
              "      <th>newbalanceOrig</th>\n",
              "      <th>oldbalanceDest</th>\n",
              "      <th>newbalanceDest</th>\n",
              "      <th>isFraud</th>\n",
              "      <th>isFlaggedFraud</th>\n",
              "    </tr>\n",
              "  </thead>\n",
              "  <tbody>\n",
              "    <tr>\n",
              "      <th>count</th>\n",
              "      <td>6.362620e+06</td>\n",
              "      <td>6.362620e+06</td>\n",
              "      <td>6.362620e+06</td>\n",
              "      <td>6.362620e+06</td>\n",
              "      <td>6.362620e+06</td>\n",
              "      <td>6.362620e+06</td>\n",
              "      <td>6.362620e+06</td>\n",
              "      <td>6.362620e+06</td>\n",
              "    </tr>\n",
              "    <tr>\n",
              "      <th>mean</th>\n",
              "      <td>2.433972e+02</td>\n",
              "      <td>1.798619e+05</td>\n",
              "      <td>8.338831e+05</td>\n",
              "      <td>8.551137e+05</td>\n",
              "      <td>1.100702e+06</td>\n",
              "      <td>1.224996e+06</td>\n",
              "      <td>1.290820e-03</td>\n",
              "      <td>2.514687e-06</td>\n",
              "    </tr>\n",
              "    <tr>\n",
              "      <th>std</th>\n",
              "      <td>1.423320e+02</td>\n",
              "      <td>6.038582e+05</td>\n",
              "      <td>2.888243e+06</td>\n",
              "      <td>2.924049e+06</td>\n",
              "      <td>3.399180e+06</td>\n",
              "      <td>3.674129e+06</td>\n",
              "      <td>3.590480e-02</td>\n",
              "      <td>1.585775e-03</td>\n",
              "    </tr>\n",
              "    <tr>\n",
              "      <th>min</th>\n",
              "      <td>1.000000e+00</td>\n",
              "      <td>0.000000e+00</td>\n",
              "      <td>0.000000e+00</td>\n",
              "      <td>0.000000e+00</td>\n",
              "      <td>0.000000e+00</td>\n",
              "      <td>0.000000e+00</td>\n",
              "      <td>0.000000e+00</td>\n",
              "      <td>0.000000e+00</td>\n",
              "    </tr>\n",
              "    <tr>\n",
              "      <th>25%</th>\n",
              "      <td>1.560000e+02</td>\n",
              "      <td>1.338957e+04</td>\n",
              "      <td>0.000000e+00</td>\n",
              "      <td>0.000000e+00</td>\n",
              "      <td>0.000000e+00</td>\n",
              "      <td>0.000000e+00</td>\n",
              "      <td>0.000000e+00</td>\n",
              "      <td>0.000000e+00</td>\n",
              "    </tr>\n",
              "    <tr>\n",
              "      <th>50%</th>\n",
              "      <td>2.390000e+02</td>\n",
              "      <td>7.487194e+04</td>\n",
              "      <td>1.420800e+04</td>\n",
              "      <td>0.000000e+00</td>\n",
              "      <td>1.327057e+05</td>\n",
              "      <td>2.146614e+05</td>\n",
              "      <td>0.000000e+00</td>\n",
              "      <td>0.000000e+00</td>\n",
              "    </tr>\n",
              "    <tr>\n",
              "      <th>75%</th>\n",
              "      <td>3.350000e+02</td>\n",
              "      <td>2.087215e+05</td>\n",
              "      <td>1.073152e+05</td>\n",
              "      <td>1.442584e+05</td>\n",
              "      <td>9.430367e+05</td>\n",
              "      <td>1.111909e+06</td>\n",
              "      <td>0.000000e+00</td>\n",
              "      <td>0.000000e+00</td>\n",
              "    </tr>\n",
              "    <tr>\n",
              "      <th>max</th>\n",
              "      <td>7.430000e+02</td>\n",
              "      <td>9.244552e+07</td>\n",
              "      <td>5.958504e+07</td>\n",
              "      <td>4.958504e+07</td>\n",
              "      <td>3.560159e+08</td>\n",
              "      <td>3.561793e+08</td>\n",
              "      <td>1.000000e+00</td>\n",
              "      <td>1.000000e+00</td>\n",
              "    </tr>\n",
              "  </tbody>\n",
              "</table>\n",
              "</div>"
            ],
            "text/plain": [
              "               step        amount  oldbalanceOrg  newbalanceOrig  \\\n",
              "count  6.362620e+06  6.362620e+06   6.362620e+06    6.362620e+06   \n",
              "mean   2.433972e+02  1.798619e+05   8.338831e+05    8.551137e+05   \n",
              "std    1.423320e+02  6.038582e+05   2.888243e+06    2.924049e+06   \n",
              "min    1.000000e+00  0.000000e+00   0.000000e+00    0.000000e+00   \n",
              "25%    1.560000e+02  1.338957e+04   0.000000e+00    0.000000e+00   \n",
              "50%    2.390000e+02  7.487194e+04   1.420800e+04    0.000000e+00   \n",
              "75%    3.350000e+02  2.087215e+05   1.073152e+05    1.442584e+05   \n",
              "max    7.430000e+02  9.244552e+07   5.958504e+07    4.958504e+07   \n",
              "\n",
              "       oldbalanceDest  newbalanceDest       isFraud  isFlaggedFraud  \n",
              "count    6.362620e+06    6.362620e+06  6.362620e+06    6.362620e+06  \n",
              "mean     1.100702e+06    1.224996e+06  1.290820e-03    2.514687e-06  \n",
              "std      3.399180e+06    3.674129e+06  3.590480e-02    1.585775e-03  \n",
              "min      0.000000e+00    0.000000e+00  0.000000e+00    0.000000e+00  \n",
              "25%      0.000000e+00    0.000000e+00  0.000000e+00    0.000000e+00  \n",
              "50%      1.327057e+05    2.146614e+05  0.000000e+00    0.000000e+00  \n",
              "75%      9.430367e+05    1.111909e+06  0.000000e+00    0.000000e+00  \n",
              "max      3.560159e+08    3.561793e+08  1.000000e+00    1.000000e+00  "
            ]
          },
          "execution_count": 50,
          "metadata": {},
          "output_type": "execute_result"
        }
      ],
      "source": [
        "# Summary statistics for numerical columns\n",
        "data.describe()\n"
      ]
    },
    {
      "cell_type": "code",
      "execution_count": 51,
      "metadata": {
        "colab": {
          "base_uri": "https://localhost:8080/"
        },
        "id": "QFnlR_ZUR-de",
        "outputId": "e02401c1-fefb-40b6-c646-e93add2ce47b"
      },
      "outputs": [
        {
          "data": {
            "text/plain": [
              "step              0\n",
              "type              0\n",
              "amount            0\n",
              "nameOrig          0\n",
              "oldbalanceOrg     0\n",
              "newbalanceOrig    0\n",
              "nameDest          0\n",
              "oldbalanceDest    0\n",
              "newbalanceDest    0\n",
              "isFraud           0\n",
              "isFlaggedFraud    0\n",
              "dtype: int64"
            ]
          },
          "execution_count": 51,
          "metadata": {},
          "output_type": "execute_result"
        }
      ],
      "source": [
        "df = data.copy()\n",
        "df.isnull().sum()"
      ]
    },
    {
      "cell_type": "code",
      "execution_count": 52,
      "metadata": {
        "colab": {
          "base_uri": "https://localhost:8080/"
        },
        "id": "10FwXAy2SCIU",
        "outputId": "42548835-edbf-4523-80a8-eb2cc5d29b64"
      },
      "outputs": [
        {
          "name": "stdout",
          "output_type": "stream",
          "text": [
            "<class 'pandas.core.frame.DataFrame'>\n",
            "RangeIndex: 6362620 entries, 0 to 6362619\n",
            "Data columns (total 11 columns):\n",
            " #   Column          Dtype  \n",
            "---  ------          -----  \n",
            " 0   step            int64  \n",
            " 1   type            object \n",
            " 2   amount          float64\n",
            " 3   nameOrig        object \n",
            " 4   oldbalanceOrg   float64\n",
            " 5   newbalanceOrig  float64\n",
            " 6   nameDest        object \n",
            " 7   oldbalanceDest  float64\n",
            " 8   newbalanceDest  float64\n",
            " 9   isFraud         int64  \n",
            " 10  isFlaggedFraud  int64  \n",
            "dtypes: float64(5), int64(3), object(3)\n",
            "memory usage: 534.0+ MB\n"
          ]
        }
      ],
      "source": [
        "df.info()"
      ]
    },
    {
      "cell_type": "code",
      "execution_count": 53,
      "metadata": {
        "colab": {
          "base_uri": "https://localhost:8080/"
        },
        "id": "Q9BYa5vtSDs_",
        "outputId": "8c93b45c-6f70-4ffb-f4c9-b3472d3b22bf"
      },
      "outputs": [
        {
          "data": {
            "text/plain": [
              "False"
            ]
          },
          "execution_count": 53,
          "metadata": {},
          "output_type": "execute_result"
        }
      ],
      "source": [
        "df.duplicated().any()"
      ]
    },
    {
      "cell_type": "markdown",
      "metadata": {},
      "source": [
        "<h2>Analytical Questions</h2>"
      ]
    },
    {
      "cell_type": "markdown",
      "metadata": {},
      "source": [
        "* What is the total number of transactions in the dataset?"
      ]
    },
    {
      "cell_type": "code",
      "execution_count": 54,
      "metadata": {},
      "outputs": [
        {
          "name": "stdout",
          "output_type": "stream",
          "text": [
            "Total number of transactions: 6362620\n"
          ]
        }
      ],
      "source": [
        "total_transactions = len(df)\n",
        "print(\"Total number of transactions:\", total_transactions)\n"
      ]
    },
    {
      "cell_type": "markdown",
      "metadata": {},
      "source": [
        "* How many of these transactions are fraudulent?"
      ]
    },
    {
      "cell_type": "code",
      "execution_count": 55,
      "metadata": {},
      "outputs": [
        {
          "name": "stdout",
          "output_type": "stream",
          "text": [
            "Number of fraudulent transactions: 8213\n"
          ]
        }
      ],
      "source": [
        "fraudulent_transactions = df[df['isFraud'] == 1]\n",
        "num_fraudulent = len(fraudulent_transactions)\n",
        "print(\"Number of fraudulent transactions:\", num_fraudulent)"
      ]
    },
    {
      "cell_type": "markdown",
      "metadata": {},
      "source": [
        "* What is the average transaction amount for non-fraudulent transactions?"
      ]
    },
    {
      "cell_type": "code",
      "execution_count": 56,
      "metadata": {},
      "outputs": [
        {
          "name": "stdout",
          "output_type": "stream",
          "text": [
            "Average amount for non-fraudulent transactions: 178197.04172740763\n"
          ]
        }
      ],
      "source": [
        "non_fraudulent_transactions = df[df['isFraud'] == 0]\n",
        "avg_amount_non_fraudulent = non_fraudulent_transactions['amount'].mean()\n",
        "print(\"Average amount for non-fraudulent transactions:\", avg_amount_non_fraudulent)"
      ]
    },
    {
      "cell_type": "markdown",
      "metadata": {},
      "source": [
        "* What is the most common transaction type for fraudulent transactions?"
      ]
    },
    {
      "cell_type": "code",
      "execution_count": 57,
      "metadata": {},
      "outputs": [
        {
          "name": "stdout",
          "output_type": "stream",
          "text": [
            "Most common transaction type for fraudulent transactions: CASH_OUT\n"
          ]
        }
      ],
      "source": [
        "most_common_fraudulent_type = fraudulent_transactions['type'].mode().values[0]\n",
        "print(\"Most common transaction type for fraudulent transactions:\", most_common_fraudulent_type)"
      ]
    },
    {
      "cell_type": "markdown",
      "metadata": {},
      "source": [
        "* What is the distribution of transaction types in the dataset?"
      ]
    },
    {
      "cell_type": "code",
      "execution_count": 58,
      "metadata": {},
      "outputs": [
        {
          "name": "stdout",
          "output_type": "stream",
          "text": [
            "Transaction type distribution:\n",
            "type\n",
            "CASH_OUT    2237500\n",
            "PAYMENT     2151495\n",
            "CASH_IN     1399284\n",
            "TRANSFER     532909\n",
            "DEBIT         41432\n",
            "Name: count, dtype: int64\n"
          ]
        }
      ],
      "source": [
        "transaction_type_distribution = df['type'].value_counts()\n",
        "print(\"Transaction type distribution:\")\n",
        "print(transaction_type_distribution)"
      ]
    },
    {
      "cell_type": "markdown",
      "metadata": {},
      "source": [
        "* What is the average balance in the origin account before and after a transaction for non-fraudulent transactions?"
      ]
    },
    {
      "cell_type": "code",
      "execution_count": 59,
      "metadata": {},
      "outputs": [
        {
          "name": "stdout",
          "output_type": "stream",
          "text": [
            "Average balance before transaction for non-fraudulent transactions: 832828.7117272632\n",
            "Average balance after transaction for non-fraudulent transactions: 855970.2281088118\n"
          ]
        }
      ],
      "source": [
        "avg_balance_before = non_fraudulent_transactions['oldbalanceOrg'].mean()\n",
        "avg_balance_after = non_fraudulent_transactions['newbalanceOrig'].mean()\n",
        "print(\"Average balance before transaction for non-fraudulent transactions:\", avg_balance_before)\n",
        "print(\"Average balance after transaction for non-fraudulent transactions:\", avg_balance_after)"
      ]
    },
    {
      "cell_type": "code",
      "execution_count": 60,
      "metadata": {},
      "outputs": [
        {
          "name": "stdout",
          "output_type": "stream",
          "text": [
            "Transaction type distribution:\n",
            "type\n",
            "CASH_OUT    2237500\n",
            "PAYMENT     2151495\n",
            "CASH_IN     1399284\n",
            "TRANSFER     532909\n",
            "DEBIT         41432\n",
            "Name: count, dtype: int64\n"
          ]
        }
      ],
      "source": [
        "transaction_type_distribution = df['type'].value_counts()\n",
        "print(\"Transaction type distribution:\")\n",
        "print(transaction_type_distribution)"
      ]
    },
    {
      "cell_type": "markdown",
      "metadata": {},
      "source": [
        "* Is there any transaction that is flagged as fraud but is not actually fraud (isFlaggedFraud is 1, isFraud is 0)?"
      ]
    },
    {
      "cell_type": "code",
      "execution_count": 61,
      "metadata": {},
      "outputs": [
        {
          "name": "stdout",
          "output_type": "stream",
          "text": [
            "Transactions flagged as fraud but not actually fraud:\n",
            "Empty DataFrame\n",
            "Columns: [step, type, amount, nameOrig, oldbalanceOrg, newbalanceOrig, nameDest, oldbalanceDest, newbalanceDest, isFraud, isFlaggedFraud]\n",
            "Index: []\n"
          ]
        }
      ],
      "source": [
        "flagged_as_fraud_not_fraud = df[(df['isFlaggedFraud'] == 1) & (df['isFraud'] == 0)]\n",
        "print(\"Transactions flagged as fraud but not actually fraud:\")\n",
        "print(flagged_as_fraud_not_fraud)"
      ]
    },
    {
      "cell_type": "markdown",
      "metadata": {},
      "source": [
        "* What is the average transaction amount for transactions that are flagged as fraud?"
      ]
    },
    {
      "cell_type": "code",
      "execution_count": 62,
      "metadata": {},
      "outputs": [
        {
          "name": "stdout",
          "output_type": "stream",
          "text": [
            "Average amount for transactions flagged as fraud: 4861597.730625\n"
          ]
        }
      ],
      "source": [
        "flagged_fraud_transactions = df[df['isFlaggedFraud'] == 1]\n",
        "avg_amount_flagged_fraud = flagged_fraud_transactions['amount'].mean()\n",
        "print(\"Average amount for transactions flagged as fraud:\", avg_amount_flagged_fraud)"
      ]
    },
    {
      "cell_type": "markdown",
      "metadata": {},
      "source": [
        "* Do fraudulent transactions happens more often on accounts that have more balance or fraudulent transactions occur at random accounts"
      ]
    },
    {
      "cell_type": "code",
      "execution_count": 63,
      "metadata": {},
      "outputs": [
        {
          "name": "stdout",
          "output_type": "stream",
          "text": [
            "Average balance for fraudulent transactions: 1649667.6057116764\n",
            "Average balance for non-fraudulent transactions: 832828.7117272632\n"
          ]
        }
      ],
      "source": [
        "fraudulent_transactions = df[df['isFraud'] == 1]\n",
        "non_fraudulent_transactions = df[df['isFraud'] == 0]\n",
        "\n",
        "# Calculate the average balances for fraudulent and non-fraudulent transactions\n",
        "avg_balance_fraudulent = fraudulent_transactions['oldbalanceOrg'].mean()\n",
        "avg_balance_non_fraudulent = non_fraudulent_transactions['oldbalanceOrg'].mean()\n",
        "\n",
        "print(\"Average balance for fraudulent transactions:\", avg_balance_fraudulent)\n",
        "print(\"Average balance for non-fraudulent transactions:\", avg_balance_non_fraudulent)\n"
      ]
    },
    {
      "cell_type": "markdown",
      "metadata": {},
      "source": [
        " It appears that the average balance for fraudulent transactions is significantly higher (approximately 1.65 million) than the average balance for non-fraudulent transactions (approximately 832,829). This suggests that fraudulent transactions are more likely to occur on accounts with higher balances. "
      ]
    },
    {
      "cell_type": "markdown",
      "metadata": {
        "id": "vgmwUr2Ts4Up"
      },
      "source": [
        "<h1>Phase Two: Data Visualization and Model Selection</h1>"
      ]
    },
    {
      "cell_type": "code",
      "execution_count": 64,
      "metadata": {
        "colab": {
          "base_uri": "https://localhost:8080/",
          "height": 296
        },
        "id": "nGbStIExG3Qz",
        "outputId": "da62a81d-aa56-44cf-a9ef-03487d5b3afb"
      },
      "outputs": [
        {
          "data": {
            "text/plain": [
              "<Axes: xlabel='step', ylabel='Density'>"
            ]
          },
          "execution_count": 64,
          "metadata": {},
          "output_type": "execute_result"
        },
        {
          "data": {
            "image/png": "[encoded data removed]",
            "text/plain": [
              "<Figure size 1500x600 with 1 Axes>"
            ]
          },
          "metadata": {},
          "output_type": "display_data"
        }
      ],
      "source": [
        "plt.figure(figsize=(15, 6))\n",
        "sns.distplot(df['step'], bins=50)"
      ]
    },
    {
      "cell_type": "markdown",
      "metadata": {
        "id": "Q5MIvjgTGhcQ"
      },
      "source": [
        "The distribution plot of the 'step' data reveals that most of the data points are concentrated within a specific range of time steps(-1 to 1). There is a clear peak in the distribution, indicating a unimodal pattern. The majority of data points fall within the bins around the peak, suggesting that these time steps are the most common in the dataset. However, there are a few outliers with time steps that are far from the peak, indicating some unusual or infrequent occurrences.\""
      ]
    },
    {
      "cell_type": "code",
      "execution_count": 65,
      "metadata": {
        "colab": {
          "base_uri": "https://localhost:8080/",
          "height": 382
        },
        "id": "XVULnhALs-PQ",
        "outputId": "062050dc-d449-49f0-c1df-593928bd7a37"
      },
      "outputs": [
        {
          "data": {
            "image/png": "[encoded data removed]",
            "text/plain": [
              "<Figure size 800x400 with 1 Axes>"
            ]
          },
          "metadata": {},
          "output_type": "display_data"
        }
      ],
      "source": [
        "# Creating a histogram of the 'amount' column\n",
        "plt.figure(figsize=(8, 4))\n",
        "sns.histplot(df['amount'], bins=50, kde=True)\n",
        "plt.title('Distribution of Amount')\n",
        "plt.xlabel('Amount')\n",
        "plt.ylabel('Frequency')\n",
        "plt.show()"
      ]
    },
    {
      "cell_type": "code",
      "execution_count": 66,
      "metadata": {
        "colab": {
          "base_uri": "https://localhost:8080/",
          "height": 489
        },
        "id": "GnzFI1OetI0F",
        "outputId": "d37ad1b9-982b-47e9-8e11-9438fdf37d75"
      },
      "outputs": [
        {
          "data": {
            "text/plain": [
              "Text(0, 0.5, 'Count')"
            ]
          },
          "execution_count": 66,
          "metadata": {},
          "output_type": "execute_result"
        },
        {
          "data": {
            "image/png": "[encoded data removed]",
            "text/plain": [
              "<Figure size 640x480 with 1 Axes>"
            ]
          },
          "metadata": {},
          "output_type": "display_data"
        }
      ],
      "source": [
        "# Count and visualize the class distribution\n",
        "class_counts = df['isFraud'].value_counts()\n",
        "sns.countplot(x='isFraud', data=df)\n",
        "plt.title('Class Distribution')\n",
        "plt.xlabel('Class (0: Non-Fraud, 1: Fraud)')\n",
        "plt.ylabel('Count')\n"
      ]
    },
    {
      "cell_type": "markdown",
      "metadata": {
        "id": "g10xVdJrHwvJ"
      },
      "source": [
        "there is imbalance in the dataset which can lead to biased model performance. so I will be adopting some special techniques, such as oversampling, undersampling, or using different evaluation metrics, to address this class imbalance and build an effective predictive model."
      ]
    },
    {
      "cell_type": "code",
      "execution_count": null,
      "metadata": {
        "colab": {
          "base_uri": "https://localhost:8080/",
          "height": 586
        },
        "id": "fU_WephztZZP",
        "outputId": "7736975c-d81c-41cd-a152-dab2558aacf2"
      },
      "outputs": [],
      "source": [
        "# #Correlation matrix\n",
        "# correlation_matrix = df.corr()\n",
        "\n",
        "# # Visualize the correlation matrix\n",
        "# plt.figure(figsize=(10, 8))\n",
        "# sns.heatmap(correlation_matrix, annot=True, cmap='coolwarm')\n",
        "# plt.title('Correlation Matrix')\n",
        "# plt.show()\n",
        "\n",
        "\n",
        "# # # Assuming 'df' is your DataFrame\n",
        "\n",
        "# # # Encode non-numeric columns to numeric\n",
        "# # df_encoded = pd.get_dummies(df)\n",
        "\n",
        "# # # Calculate the correlation matrix\n",
        "# # correlation_matrix = df_encoded.corr()\n",
        "\n",
        "# # # Visualize the correlation matrix\n",
        "# # plt.figure(figsize=(10, 8))\n",
        "# # sns.heatmap(correlation_matrix, annot=True, cmap='coolwarm', linewidths=0.5)\n",
        "# # plt.title('Correlation Matrix')\n",
        "\n"
      ]
    },
    {
      "cell_type": "markdown",
      "metadata": {
        "id": "Pn_KDvPU_puU"
      },
      "source": [
        "\n",
        "\n",
        "*   There is a strong positive relationship between \"new balance Dest\" and \"old balance Dest\"\n",
        "*   There is a moderate postive relationship between \"newbalanceDest\" and \"amount\"\n",
        "*   The rest of the features have a weak relationship between one another\n",
        "\n",
        "\n",
        "\n",
        "\n"
      ]
    },
    {
      "cell_type": "code",
      "execution_count": 68,
      "metadata": {
        "colab": {
          "base_uri": "https://localhost:8080/",
          "height": 447
        },
        "id": "e-3fEs7otw1y",
        "outputId": "3468d28d-94db-4287-eaf2-8c43b1316997"
      },
      "outputs": [
        {
          "data": {
            "text/plain": [
              "Text(0, 0.5, 'Amount')"
            ]
          },
          "execution_count": 68,
          "metadata": {},
          "output_type": "execute_result"
        },
        {
          "data": {
            "image/png": "[encoded data removed]",
            "text/plain": [
              "<Figure size 1000x600 with 1 Axes>"
            ]
          },
          "metadata": {},
          "output_type": "display_data"
        }
      ],
      "source": [
        "# Create box plots for 'amount' by class\n",
        "plt.figure(figsize=(10, 6))\n",
        "sns.boxplot(x='isFraud', y='amount', data=df)\n",
        "plt.title('Box Plot of Amount by Class')\n",
        "plt.xlabel('Class (0: Non-Fraud, 1: Fraud)')\n",
        "plt.ylabel('Amount')\n"
      ]
    },
    {
      "cell_type": "markdown",
      "metadata": {
        "id": "y47aul9CI3QG"
      },
      "source": [
        "The box plot of 'Amount' by class provides valuable insights into the differences between non-fraudulent and fraudulent transactions. In the case of non-fraudulent transactions (Class 0), we observe a wide range of 'amount' values, with a median 'amount' value that is relatively higher. This suggests that most non-fraudulent transactions have moderate to high 'amounts,' and some transactions have very large 'amounts,' exceeding 6 million.\n",
        "\n",
        "Conversely, for fraudulent transactions (Class 1), the box plot reveals a narrower range of 'amount' values, with a median 'amount' that is significantly lower than that of non-fraudulent transactions. This indicates that fraudulent transactions predominantly involve lower 'amounts,' with very few, if any, cases exceeding 10,000. In other words, most fraudulent transactions are associated with smaller 'amounts.'"
      ]
    },
    {
      "cell_type": "code",
      "execution_count": 69,
      "metadata": {
        "colab": {
          "base_uri": "https://localhost:8080/",
          "height": 1000
        },
        "id": "UwFcMirOJGxo",
        "outputId": "311efe9f-c91a-4c6c-8c7b-3872ea402128"
      },
      "outputs": [
        {
          "data": {
            "image/png": "[encoded data removed]",
            "text/plain": [
              "<Figure size 800x500 with 1 Axes>"
            ]
          },
          "metadata": {},
          "output_type": "display_data"
        },
        {
          "data": {
            "image/png": "[encoded data removed]",
            "text/plain": [
              "<Figure size 800x500 with 1 Axes>"
            ]
          },
          "metadata": {},
          "output_type": "display_data"
        },
        {
          "data": {
            "image/png": "[encoded data removed]",
            "text/plain": [
              "<Figure size 800x500 with 1 Axes>"
            ]
          },
          "metadata": {},
          "output_type": "display_data"
        },
        {
          "data": {
            "image/png": "[encoded data removed]",
            "text/plain": [
              "<Figure size 800x500 with 1 Axes>"
            ]
          },
          "metadata": {},
          "output_type": "display_data"
        },
        {
          "data": {
            "image/png": "[encoded data removed]",
            "text/plain": [
              "<Figure size 800x500 with 1 Axes>"
            ]
          },
          "metadata": {},
          "output_type": "display_data"
        }
      ],
      "source": [
        "features_of_interest = ['amount', 'oldbalanceOrg', 'newbalanceOrig', 'oldbalanceDest', 'newbalanceDest']\n",
        "for feature in features_of_interest:\n",
        "    plt.figure(figsize=(8, 5))\n",
        "    sns.histplot(data=df, x=feature, hue='isFraud', element='step', common_norm=False)\n",
        "    plt.title(f'Distribution of {feature} by Class')\n",
        "    plt.xlabel(feature)\n",
        "    plt.ylabel('Count')\n"
      ]
    },
    {
      "cell_type": "code",
      "execution_count": 70,
      "metadata": {
        "colab": {
          "base_uri": "https://localhost:8080/",
          "height": 415
        },
        "id": "6CTmpjeiSLbj",
        "outputId": "6c538439-a50b-4863-b4ec-b29c2f6c5e58"
      },
      "outputs": [
        {
          "data": {
            "text/html": [
              "<div>\n",
              "<style scoped>\n",
              "    .dataframe tbody tr th:only-of-type {\n",
              "        vertical-align: middle;\n",
              "    }\n",
              "\n",
              "    .dataframe tbody tr th {\n",
              "        vertical-align: top;\n",
              "    }\n",
              "\n",
              "    .dataframe thead th {\n",
              "        text-align: right;\n",
              "    }\n",
              "</style>\n",
              "<table border=\"1\" class=\"dataframe\">\n",
              "  <thead>\n",
              "    <tr style=\"text-align: right;\">\n",
              "      <th></th>\n",
              "      <th>type</th>\n",
              "      <th>nameOrig</th>\n",
              "      <th>nameDest</th>\n",
              "    </tr>\n",
              "  </thead>\n",
              "  <tbody>\n",
              "    <tr>\n",
              "      <th>0</th>\n",
              "      <td>PAYMENT</td>\n",
              "      <td>C1231006815</td>\n",
              "      <td>M1979787155</td>\n",
              "    </tr>\n",
              "    <tr>\n",
              "      <th>1</th>\n",
              "      <td>PAYMENT</td>\n",
              "      <td>C1666544295</td>\n",
              "      <td>M2044282225</td>\n",
              "    </tr>\n",
              "    <tr>\n",
              "      <th>2</th>\n",
              "      <td>TRANSFER</td>\n",
              "      <td>C1305486145</td>\n",
              "      <td>C553264065</td>\n",
              "    </tr>\n",
              "    <tr>\n",
              "      <th>3</th>\n",
              "      <td>CASH_OUT</td>\n",
              "      <td>C840083671</td>\n",
              "      <td>C38997010</td>\n",
              "    </tr>\n",
              "    <tr>\n",
              "      <th>4</th>\n",
              "      <td>PAYMENT</td>\n",
              "      <td>C2048537720</td>\n",
              "      <td>M1230701703</td>\n",
              "    </tr>\n",
              "  </tbody>\n",
              "</table>\n",
              "</div>"
            ],
            "text/plain": [
              "       type     nameOrig     nameDest\n",
              "0   PAYMENT  C1231006815  M1979787155\n",
              "1   PAYMENT  C1666544295  M2044282225\n",
              "2  TRANSFER  C1305486145   C553264065\n",
              "3  CASH_OUT   C840083671    C38997010\n",
              "4   PAYMENT  C2048537720  M1230701703"
            ]
          },
          "metadata": {},
          "output_type": "display_data"
        },
        {
          "data": {
            "text/html": [
              "<div>\n",
              "<style scoped>\n",
              "    .dataframe tbody tr th:only-of-type {\n",
              "        vertical-align: middle;\n",
              "    }\n",
              "\n",
              "    .dataframe tbody tr th {\n",
              "        vertical-align: top;\n",
              "    }\n",
              "\n",
              "    .dataframe thead th {\n",
              "        text-align: right;\n",
              "    }\n",
              "</style>\n",
              "<table border=\"1\" class=\"dataframe\">\n",
              "  <thead>\n",
              "    <tr style=\"text-align: right;\">\n",
              "      <th></th>\n",
              "      <th>step</th>\n",
              "      <th>amount</th>\n",
              "      <th>oldbalanceOrg</th>\n",
              "      <th>newbalanceOrig</th>\n",
              "      <th>oldbalanceDest</th>\n",
              "      <th>newbalanceDest</th>\n",
              "      <th>isFraud</th>\n",
              "      <th>isFlaggedFraud</th>\n",
              "    </tr>\n",
              "  </thead>\n",
              "  <tbody>\n",
              "    <tr>\n",
              "      <th>0</th>\n",
              "      <td>1</td>\n",
              "      <td>9839.64</td>\n",
              "      <td>170136.0</td>\n",
              "      <td>160296.36</td>\n",
              "      <td>0.0</td>\n",
              "      <td>0.0</td>\n",
              "      <td>0</td>\n",
              "      <td>0</td>\n",
              "    </tr>\n",
              "    <tr>\n",
              "      <th>1</th>\n",
              "      <td>1</td>\n",
              "      <td>1864.28</td>\n",
              "      <td>21249.0</td>\n",
              "      <td>19384.72</td>\n",
              "      <td>0.0</td>\n",
              "      <td>0.0</td>\n",
              "      <td>0</td>\n",
              "      <td>0</td>\n",
              "    </tr>\n",
              "    <tr>\n",
              "      <th>2</th>\n",
              "      <td>1</td>\n",
              "      <td>181.00</td>\n",
              "      <td>181.0</td>\n",
              "      <td>0.00</td>\n",
              "      <td>0.0</td>\n",
              "      <td>0.0</td>\n",
              "      <td>1</td>\n",
              "      <td>0</td>\n",
              "    </tr>\n",
              "    <tr>\n",
              "      <th>3</th>\n",
              "      <td>1</td>\n",
              "      <td>181.00</td>\n",
              "      <td>181.0</td>\n",
              "      <td>0.00</td>\n",
              "      <td>21182.0</td>\n",
              "      <td>0.0</td>\n",
              "      <td>1</td>\n",
              "      <td>0</td>\n",
              "    </tr>\n",
              "    <tr>\n",
              "      <th>4</th>\n",
              "      <td>1</td>\n",
              "      <td>11668.14</td>\n",
              "      <td>41554.0</td>\n",
              "      <td>29885.86</td>\n",
              "      <td>0.0</td>\n",
              "      <td>0.0</td>\n",
              "      <td>0</td>\n",
              "      <td>0</td>\n",
              "    </tr>\n",
              "  </tbody>\n",
              "</table>\n",
              "</div>"
            ],
            "text/plain": [
              "   step    amount  oldbalanceOrg  newbalanceOrig  oldbalanceDest  \\\n",
              "0     1   9839.64       170136.0       160296.36             0.0   \n",
              "1     1   1864.28        21249.0        19384.72             0.0   \n",
              "2     1    181.00          181.0            0.00             0.0   \n",
              "3     1    181.00          181.0            0.00         21182.0   \n",
              "4     1  11668.14        41554.0        29885.86             0.0   \n",
              "\n",
              "   newbalanceDest  isFraud  isFlaggedFraud  \n",
              "0             0.0        0               0  \n",
              "1             0.0        0               0  \n",
              "2             0.0        1               0  \n",
              "3             0.0        1               0  \n",
              "4             0.0        0               0  "
            ]
          },
          "metadata": {},
          "output_type": "display_data"
        }
      ],
      "source": [
        "cat = df.select_dtypes(include = ['category', 'object'])\n",
        "num = df.select_dtypes(include = 'number')\n",
        "display(cat.head())\n",
        "display(num.head())"
      ]
    },
    {
      "cell_type": "code",
      "execution_count": 71,
      "metadata": {
        "colab": {
          "base_uri": "https://localhost:8080/",
          "height": 365
        },
        "id": "ZOsHFxLpSNdX",
        "outputId": "76266d5b-217d-43f1-b912-e4af4f61b714"
      },
      "outputs": [
        {
          "data": {
            "image/png": "[encoded data removed]",
            "text/plain": [
              "<Figure size 1700x400 with 4 Axes>"
            ]
          },
          "metadata": {},
          "output_type": "display_data"
        },
        {
          "data": {
            "image/png": "[encoded data removed]",
            "text/plain": [
              "<Figure size 1700x400 with 4 Axes>"
            ]
          },
          "metadata": {},
          "output_type": "display_data"
        }
      ],
      "source": [
        "# ------------checking the outliers in the dataset---------------\n",
        "def OutlierChecker(dataframe, a, b, c, d):\n",
        "    plt.figure(figsize=(17, 4))\n",
        "\n",
        "    plt.subplot(1, 4, 1)\n",
        "    sns.boxplot(x=dataframe[a])\n",
        "\n",
        "    plt.subplot(1, 4, 2)\n",
        "    sns.boxplot(x=dataframe[b])\n",
        "\n",
        "    plt.subplot(1, 4, 3)\n",
        "    sns.boxplot(x=dataframe[c])\n",
        "\n",
        "    plt.subplot(1, 4, 4)\n",
        "    sns.boxplot(x=dataframe[d])\n",
        "\n",
        "OutlierChecker(df, 'step', 'amount' , 'oldbalanceOrg', 'newbalanceOrig')\n",
        "OutlierChecker(df, 'oldbalanceDest', 'newbalanceDest' , 'oldbalanceOrg', 'isFlaggedFraud')"
      ]
    },
    {
      "cell_type": "code",
      "execution_count": 72,
      "metadata": {
        "colab": {
          "base_uri": "https://localhost:8080/",
          "height": 443
        },
        "id": "sPhxUl8rSPVa",
        "outputId": "688e0858-84b2-4d10-c0c7-d8e653db2826"
      },
      "outputs": [
        {
          "data": {
            "text/html": [
              "<div>\n",
              "<style scoped>\n",
              "    .dataframe tbody tr th:only-of-type {\n",
              "        vertical-align: middle;\n",
              "    }\n",
              "\n",
              "    .dataframe tbody tr th {\n",
              "        vertical-align: top;\n",
              "    }\n",
              "\n",
              "    .dataframe thead th {\n",
              "        text-align: right;\n",
              "    }\n",
              "</style>\n",
              "<table border=\"1\" class=\"dataframe\">\n",
              "  <thead>\n",
              "    <tr style=\"text-align: right;\">\n",
              "      <th></th>\n",
              "      <th>step</th>\n",
              "      <th>type</th>\n",
              "      <th>amount</th>\n",
              "      <th>nameOrig</th>\n",
              "      <th>oldbalanceOrg</th>\n",
              "      <th>newbalanceOrig</th>\n",
              "      <th>nameDest</th>\n",
              "      <th>oldbalanceDest</th>\n",
              "      <th>newbalanceDest</th>\n",
              "      <th>isFraud</th>\n",
              "      <th>isFlaggedFraud</th>\n",
              "    </tr>\n",
              "  </thead>\n",
              "  <tbody>\n",
              "    <tr>\n",
              "      <th>1</th>\n",
              "      <td>1</td>\n",
              "      <td>PAYMENT</td>\n",
              "      <td>1864.28</td>\n",
              "      <td>C1666544295</td>\n",
              "      <td>21249.00</td>\n",
              "      <td>19384.72</td>\n",
              "      <td>M2044282225</td>\n",
              "      <td>0.00</td>\n",
              "      <td>0.00</td>\n",
              "      <td>0</td>\n",
              "      <td>0</td>\n",
              "    </tr>\n",
              "    <tr>\n",
              "      <th>4</th>\n",
              "      <td>1</td>\n",
              "      <td>PAYMENT</td>\n",
              "      <td>11668.14</td>\n",
              "      <td>C2048537720</td>\n",
              "      <td>41554.00</td>\n",
              "      <td>29885.86</td>\n",
              "      <td>M1230701703</td>\n",
              "      <td>0.00</td>\n",
              "      <td>0.00</td>\n",
              "      <td>0</td>\n",
              "      <td>0</td>\n",
              "    </tr>\n",
              "    <tr>\n",
              "      <th>5</th>\n",
              "      <td>1</td>\n",
              "      <td>PAYMENT</td>\n",
              "      <td>7817.71</td>\n",
              "      <td>C90045638</td>\n",
              "      <td>53860.00</td>\n",
              "      <td>46042.29</td>\n",
              "      <td>M573487274</td>\n",
              "      <td>0.00</td>\n",
              "      <td>0.00</td>\n",
              "      <td>0</td>\n",
              "      <td>0</td>\n",
              "    </tr>\n",
              "    <tr>\n",
              "      <th>8</th>\n",
              "      <td>1</td>\n",
              "      <td>PAYMENT</td>\n",
              "      <td>4024.36</td>\n",
              "      <td>C1265012928</td>\n",
              "      <td>2671.00</td>\n",
              "      <td>0.00</td>\n",
              "      <td>M1176932104</td>\n",
              "      <td>0.00</td>\n",
              "      <td>0.00</td>\n",
              "      <td>0</td>\n",
              "      <td>0</td>\n",
              "    </tr>\n",
              "    <tr>\n",
              "      <th>9</th>\n",
              "      <td>1</td>\n",
              "      <td>DEBIT</td>\n",
              "      <td>5337.77</td>\n",
              "      <td>C712410124</td>\n",
              "      <td>41720.00</td>\n",
              "      <td>36382.23</td>\n",
              "      <td>C195600860</td>\n",
              "      <td>41898.00</td>\n",
              "      <td>40348.79</td>\n",
              "      <td>0</td>\n",
              "      <td>0</td>\n",
              "    </tr>\n",
              "    <tr>\n",
              "      <th>...</th>\n",
              "      <td>...</td>\n",
              "      <td>...</td>\n",
              "      <td>...</td>\n",
              "      <td>...</td>\n",
              "      <td>...</td>\n",
              "      <td>...</td>\n",
              "      <td>...</td>\n",
              "      <td>...</td>\n",
              "      <td>...</td>\n",
              "      <td>...</td>\n",
              "      <td>...</td>\n",
              "    </tr>\n",
              "    <tr>\n",
              "      <th>6259906</th>\n",
              "      <td>601</td>\n",
              "      <td>PAYMENT</td>\n",
              "      <td>3.04</td>\n",
              "      <td>C960748220</td>\n",
              "      <td>25287.00</td>\n",
              "      <td>25283.96</td>\n",
              "      <td>M313631875</td>\n",
              "      <td>0.00</td>\n",
              "      <td>0.00</td>\n",
              "      <td>0</td>\n",
              "      <td>0</td>\n",
              "    </tr>\n",
              "    <tr>\n",
              "      <th>6259907</th>\n",
              "      <td>601</td>\n",
              "      <td>PAYMENT</td>\n",
              "      <td>13232.49</td>\n",
              "      <td>C737614907</td>\n",
              "      <td>25283.96</td>\n",
              "      <td>12051.47</td>\n",
              "      <td>M1594503804</td>\n",
              "      <td>0.00</td>\n",
              "      <td>0.00</td>\n",
              "      <td>0</td>\n",
              "      <td>0</td>\n",
              "    </tr>\n",
              "    <tr>\n",
              "      <th>6259908</th>\n",
              "      <td>601</td>\n",
              "      <td>PAYMENT</td>\n",
              "      <td>2221.70</td>\n",
              "      <td>C2025555227</td>\n",
              "      <td>496.00</td>\n",
              "      <td>0.00</td>\n",
              "      <td>M1739698995</td>\n",
              "      <td>0.00</td>\n",
              "      <td>0.00</td>\n",
              "      <td>0</td>\n",
              "      <td>0</td>\n",
              "    </tr>\n",
              "    <tr>\n",
              "      <th>6259910</th>\n",
              "      <td>601</td>\n",
              "      <td>PAYMENT</td>\n",
              "      <td>5542.37</td>\n",
              "      <td>C1586821392</td>\n",
              "      <td>465.00</td>\n",
              "      <td>0.00</td>\n",
              "      <td>M878113242</td>\n",
              "      <td>0.00</td>\n",
              "      <td>0.00</td>\n",
              "      <td>0</td>\n",
              "      <td>0</td>\n",
              "    </tr>\n",
              "    <tr>\n",
              "      <th>6259911</th>\n",
              "      <td>601</td>\n",
              "      <td>DEBIT</td>\n",
              "      <td>4205.96</td>\n",
              "      <td>C1666975703</td>\n",
              "      <td>10856.00</td>\n",
              "      <td>6650.04</td>\n",
              "      <td>C1315040251</td>\n",
              "      <td>249006.73</td>\n",
              "      <td>253212.69</td>\n",
              "      <td>0</td>\n",
              "      <td>0</td>\n",
              "    </tr>\n",
              "  </tbody>\n",
              "</table>\n",
              "<p>3196840 rows × 11 columns</p>\n",
              "</div>"
            ],
            "text/plain": [
              "         step     type    amount     nameOrig  oldbalanceOrg  newbalanceOrig  \\\n",
              "1           1  PAYMENT   1864.28  C1666544295       21249.00        19384.72   \n",
              "4           1  PAYMENT  11668.14  C2048537720       41554.00        29885.86   \n",
              "5           1  PAYMENT   7817.71    C90045638       53860.00        46042.29   \n",
              "8           1  PAYMENT   4024.36  C1265012928        2671.00            0.00   \n",
              "9           1    DEBIT   5337.77   C712410124       41720.00        36382.23   \n",
              "...       ...      ...       ...          ...            ...             ...   \n",
              "6259906   601  PAYMENT      3.04   C960748220       25287.00        25283.96   \n",
              "6259907   601  PAYMENT  13232.49   C737614907       25283.96        12051.47   \n",
              "6259908   601  PAYMENT   2221.70  C2025555227         496.00            0.00   \n",
              "6259910   601  PAYMENT   5542.37  C1586821392         465.00            0.00   \n",
              "6259911   601    DEBIT   4205.96  C1666975703       10856.00         6650.04   \n",
              "\n",
              "            nameDest  oldbalanceDest  newbalanceDest  isFraud  isFlaggedFraud  \n",
              "1        M2044282225            0.00            0.00        0               0  \n",
              "4        M1230701703            0.00            0.00        0               0  \n",
              "5         M573487274            0.00            0.00        0               0  \n",
              "8        M1176932104            0.00            0.00        0               0  \n",
              "9         C195600860        41898.00        40348.79        0               0  \n",
              "...              ...             ...             ...      ...             ...  \n",
              "6259906   M313631875            0.00            0.00        0               0  \n",
              "6259907  M1594503804            0.00            0.00        0               0  \n",
              "6259908  M1739698995            0.00            0.00        0               0  \n",
              "6259910   M878113242            0.00            0.00        0               0  \n",
              "6259911  C1315040251       249006.73       253212.69        0               0  \n",
              "\n",
              "[3196840 rows x 11 columns]"
            ]
          },
          "execution_count": 72,
          "metadata": {},
          "output_type": "execute_result"
        }
      ],
      "source": [
        "# ---------------removing the outliers----------------\n",
        "def outlierRemoval(dataframe):\n",
        "    for i in dataframe.columns:\n",
        "      if i in dataframe.select_dtypes(include = 'number').columns:\n",
        "          Q1 = dataframe[i].describe()[4]  # Index 3 for Q1 (25th percentile)\n",
        "          Q3 = dataframe[i].describe()[6]  # Index 7 for Q3 (75th percentile)\n",
        "          IQR = Q3 - Q1\n",
        "          lowerIQR = Q1 - 1.5 * IQR\n",
        "          upperIQR = Q3 + 1.5 * IQR\n",
        "          dataframe = dataframe.loc[(dataframe[i] >= lowerIQR) & (dataframe[i] <= upperIQR)]\n",
        "    return dataframe\n",
        "\n",
        "outlierRemoval(df)"
      ]
    },
    {
      "cell_type": "code",
      "execution_count": 73,
      "metadata": {
        "colab": {
          "base_uri": "https://localhost:8080/"
        },
        "id": "yi4kwnqeWTvl",
        "outputId": "a4e57e3a-0189-4222-f750-12a97548368f"
      },
      "outputs": [
        {
          "data": {
            "text/plain": [
              "isFraud\n",
              "0    6354407\n",
              "1       8213\n",
              "Name: count, dtype: int64"
            ]
          },
          "execution_count": 73,
          "metadata": {},
          "output_type": "execute_result"
        }
      ],
      "source": [
        "df.isFraud.value_counts()"
      ]
    },
    {
      "cell_type": "code",
      "execution_count": 74,
      "metadata": {
        "colab": {
          "base_uri": "https://localhost:8080/",
          "height": 443
        },
        "id": "KC-eVtZCWiQW",
        "outputId": "6531e3f3-2bf5-4495-811e-1cecaba608f2"
      },
      "outputs": [
        {
          "data": {
            "text/html": [
              "<div>\n",
              "<style scoped>\n",
              "    .dataframe tbody tr th:only-of-type {\n",
              "        vertical-align: middle;\n",
              "    }\n",
              "\n",
              "    .dataframe tbody tr th {\n",
              "        vertical-align: top;\n",
              "    }\n",
              "\n",
              "    .dataframe thead th {\n",
              "        text-align: right;\n",
              "    }\n",
              "</style>\n",
              "<table border=\"1\" class=\"dataframe\">\n",
              "  <thead>\n",
              "    <tr style=\"text-align: right;\">\n",
              "      <th></th>\n",
              "      <th>step</th>\n",
              "      <th>type</th>\n",
              "      <th>amount</th>\n",
              "      <th>nameOrig</th>\n",
              "      <th>oldbalanceOrg</th>\n",
              "      <th>newbalanceOrig</th>\n",
              "      <th>nameDest</th>\n",
              "      <th>oldbalanceDest</th>\n",
              "      <th>newbalanceDest</th>\n",
              "      <th>isFraud</th>\n",
              "      <th>isFlaggedFraud</th>\n",
              "    </tr>\n",
              "  </thead>\n",
              "  <tbody>\n",
              "    <tr>\n",
              "      <th>0</th>\n",
              "      <td>-1.703042</td>\n",
              "      <td>3</td>\n",
              "      <td>-0.281560</td>\n",
              "      <td>757869</td>\n",
              "      <td>-0.229810</td>\n",
              "      <td>-0.237622</td>\n",
              "      <td>1662094</td>\n",
              "      <td>-0.323814</td>\n",
              "      <td>-0.333411</td>\n",
              "      <td>0</td>\n",
              "      <td>0</td>\n",
              "    </tr>\n",
              "    <tr>\n",
              "      <th>1</th>\n",
              "      <td>-1.703042</td>\n",
              "      <td>3</td>\n",
              "      <td>-0.294767</td>\n",
              "      <td>2188998</td>\n",
              "      <td>-0.281359</td>\n",
              "      <td>-0.285812</td>\n",
              "      <td>1733924</td>\n",
              "      <td>-0.323814</td>\n",
              "      <td>-0.333411</td>\n",
              "      <td>0</td>\n",
              "      <td>0</td>\n",
              "    </tr>\n",
              "    <tr>\n",
              "      <th>2</th>\n",
              "      <td>-1.703042</td>\n",
              "      <td>4</td>\n",
              "      <td>-0.297555</td>\n",
              "      <td>1002156</td>\n",
              "      <td>-0.288654</td>\n",
              "      <td>-0.292442</td>\n",
              "      <td>439685</td>\n",
              "      <td>-0.323814</td>\n",
              "      <td>-0.333411</td>\n",
              "      <td>1</td>\n",
              "      <td>0</td>\n",
              "    </tr>\n",
              "    <tr>\n",
              "      <th>3</th>\n",
              "      <td>-1.703042</td>\n",
              "      <td>1</td>\n",
              "      <td>-0.297555</td>\n",
              "      <td>5828262</td>\n",
              "      <td>-0.288654</td>\n",
              "      <td>-0.292442</td>\n",
              "      <td>391696</td>\n",
              "      <td>-0.317582</td>\n",
              "      <td>-0.333411</td>\n",
              "      <td>1</td>\n",
              "      <td>0</td>\n",
              "    </tr>\n",
              "    <tr>\n",
              "      <th>4</th>\n",
              "      <td>-1.703042</td>\n",
              "      <td>3</td>\n",
              "      <td>-0.278532</td>\n",
              "      <td>3445981</td>\n",
              "      <td>-0.274329</td>\n",
              "      <td>-0.282221</td>\n",
              "      <td>828919</td>\n",
              "      <td>-0.323814</td>\n",
              "      <td>-0.333411</td>\n",
              "      <td>0</td>\n",
              "      <td>0</td>\n",
              "    </tr>\n",
              "    <tr>\n",
              "      <th>...</th>\n",
              "      <td>...</td>\n",
              "      <td>...</td>\n",
              "      <td>...</td>\n",
              "      <td>...</td>\n",
              "      <td>...</td>\n",
              "      <td>...</td>\n",
              "      <td>...</td>\n",
              "      <td>...</td>\n",
              "      <td>...</td>\n",
              "      <td>...</td>\n",
              "      <td>...</td>\n",
              "    </tr>\n",
              "    <tr>\n",
              "      <th>6362615</th>\n",
              "      <td>3.510123</td>\n",
              "      <td>1</td>\n",
              "      <td>0.264665</td>\n",
              "      <td>5651847</td>\n",
              "      <td>-0.171108</td>\n",
              "      <td>-0.292442</td>\n",
              "      <td>505863</td>\n",
              "      <td>-0.323814</td>\n",
              "      <td>-0.240959</td>\n",
              "      <td>1</td>\n",
              "      <td>0</td>\n",
              "    </tr>\n",
              "    <tr>\n",
              "      <th>6362616</th>\n",
              "      <td>3.510123</td>\n",
              "      <td>4</td>\n",
              "      <td>10.153953</td>\n",
              "      <td>1737278</td>\n",
              "      <td>1.896491</td>\n",
              "      <td>-0.292442</td>\n",
              "      <td>260949</td>\n",
              "      <td>-0.323814</td>\n",
              "      <td>-0.333411</td>\n",
              "      <td>1</td>\n",
              "      <td>0</td>\n",
              "    </tr>\n",
              "    <tr>\n",
              "      <th>6362617</th>\n",
              "      <td>3.510123</td>\n",
              "      <td>1</td>\n",
              "      <td>10.153953</td>\n",
              "      <td>533958</td>\n",
              "      <td>1.896491</td>\n",
              "      <td>-0.292442</td>\n",
              "      <td>108224</td>\n",
              "      <td>-0.303665</td>\n",
              "      <td>1.403027</td>\n",
              "      <td>1</td>\n",
              "      <td>0</td>\n",
              "    </tr>\n",
              "    <tr>\n",
              "      <th>6362618</th>\n",
              "      <td>3.510123</td>\n",
              "      <td>4</td>\n",
              "      <td>1.109765</td>\n",
              "      <td>2252932</td>\n",
              "      <td>0.005581</td>\n",
              "      <td>-0.292442</td>\n",
              "      <td>319713</td>\n",
              "      <td>-0.323814</td>\n",
              "      <td>-0.333411</td>\n",
              "      <td>1</td>\n",
              "      <td>0</td>\n",
              "    </tr>\n",
              "    <tr>\n",
              "      <th>6362619</th>\n",
              "      <td>3.510123</td>\n",
              "      <td>1</td>\n",
              "      <td>1.109765</td>\n",
              "      <td>919229</td>\n",
              "      <td>0.005581</td>\n",
              "      <td>-0.292442</td>\n",
              "      <td>534595</td>\n",
              "      <td>1.591383</td>\n",
              "      <td>1.669812</td>\n",
              "      <td>1</td>\n",
              "      <td>0</td>\n",
              "    </tr>\n",
              "  </tbody>\n",
              "</table>\n",
              "<p>6362620 rows × 11 columns</p>\n",
              "</div>"
            ],
            "text/plain": [
              "             step  type     amount  nameOrig  oldbalanceOrg  newbalanceOrig  \\\n",
              "0       -1.703042     3  -0.281560    757869      -0.229810       -0.237622   \n",
              "1       -1.703042     3  -0.294767   2188998      -0.281359       -0.285812   \n",
              "2       -1.703042     4  -0.297555   1002156      -0.288654       -0.292442   \n",
              "3       -1.703042     1  -0.297555   5828262      -0.288654       -0.292442   \n",
              "4       -1.703042     3  -0.278532   3445981      -0.274329       -0.282221   \n",
              "...           ...   ...        ...       ...            ...             ...   \n",
              "6362615  3.510123     1   0.264665   5651847      -0.171108       -0.292442   \n",
              "6362616  3.510123     4  10.153953   1737278       1.896491       -0.292442   \n",
              "6362617  3.510123     1  10.153953    533958       1.896491       -0.292442   \n",
              "6362618  3.510123     4   1.109765   2252932       0.005581       -0.292442   \n",
              "6362619  3.510123     1   1.109765    919229       0.005581       -0.292442   \n",
              "\n",
              "         nameDest  oldbalanceDest  newbalanceDest  isFraud  isFlaggedFraud  \n",
              "0         1662094       -0.323814       -0.333411        0               0  \n",
              "1         1733924       -0.323814       -0.333411        0               0  \n",
              "2          439685       -0.323814       -0.333411        1               0  \n",
              "3          391696       -0.317582       -0.333411        1               0  \n",
              "4          828919       -0.323814       -0.333411        0               0  \n",
              "...           ...             ...             ...      ...             ...  \n",
              "6362615    505863       -0.323814       -0.240959        1               0  \n",
              "6362616    260949       -0.323814       -0.333411        1               0  \n",
              "6362617    108224       -0.303665        1.403027        1               0  \n",
              "6362618    319713       -0.323814       -0.333411        1               0  \n",
              "6362619    534595        1.591383        1.669812        1               0  \n",
              "\n",
              "[6362620 rows x 11 columns]"
            ]
          },
          "execution_count": 74,
          "metadata": {},
          "output_type": "execute_result"
        }
      ],
      "source": [
        "#label encode categorical columns and standard scale numerical columns\n",
        "from sklearn.preprocessing import StandardScaler, LabelEncoder\n",
        "\n",
        "def transformer(dataframe):\n",
        "    lb = LabelEncoder()\n",
        "    scaler = StandardScaler()\n",
        "\n",
        "    dep = dataframe.drop(['isFraud', 'isFlaggedFraud'] ,axis = 1)\n",
        "\n",
        "    for i in dep.columns:\n",
        "        if i in dataframe.select_dtypes(include='number').columns:\n",
        "            # Scale only numerical columns\n",
        "            dataframe[[i]] = scaler.fit_transform(dataframe[[i]])\n",
        "        elif i in dataframe.select_dtypes(include=['object', 'category']).columns:\n",
        "            # Label encode categorical columns\n",
        "            dataframe[i] = lb.fit_transform(dataframe[i])\n",
        "\n",
        "    return dataframe\n",
        "\n",
        "\n",
        "transformer(df)"
      ]
    },
    {
      "cell_type": "code",
      "execution_count": 75,
      "metadata": {
        "id": "yZDEIGPcWqbp"
      },
      "outputs": [
        {
          "data": {
            "text/plain": [
              "<Axes: title={'center': 'Feature importance'}, xlabel='F score', ylabel='Features'>"
            ]
          },
          "execution_count": 75,
          "metadata": {},
          "output_type": "execute_result"
        },
        {
          "data": {
            "image/png": "[encoded data removed]",
            "text/plain": [
              "<Figure size 640x480 with 1 Axes>"
            ]
          },
          "metadata": {},
          "output_type": "display_data"
        }
      ],
      "source": [
        "# %pip install xgboost\n",
        "import xgboost as xgb\n",
        "\n",
        "X = df.drop('isFraud', axis=1)\n",
        "Y = df.isFraud\n",
        "\n",
        "# Create and train an XGBoost model\n",
        "model = xgb.XGBClassifier()\n",
        "model.fit(X, Y)\n",
        "\n",
        "# Print feature importance scores\n",
        "xgb.plot_importance(model)"
      ]
    },
    {
      "cell_type": "code",
      "execution_count": 76,
      "metadata": {
        "colab": {
          "base_uri": "https://localhost:8080/",
          "height": 363
        },
        "id": "KvzF5E8bWxN4",
        "outputId": "cdcda91f-c836-484e-e394-a0c06231c6ee"
      },
      "outputs": [
        {
          "data": {
            "text/html": [
              "<div>\n",
              "<style scoped>\n",
              "    .dataframe tbody tr th:only-of-type {\n",
              "        vertical-align: middle;\n",
              "    }\n",
              "\n",
              "    .dataframe tbody tr th {\n",
              "        vertical-align: top;\n",
              "    }\n",
              "\n",
              "    .dataframe thead th {\n",
              "        text-align: right;\n",
              "    }\n",
              "</style>\n",
              "<table border=\"1\" class=\"dataframe\">\n",
              "  <thead>\n",
              "    <tr style=\"text-align: right;\">\n",
              "      <th></th>\n",
              "      <th>Feature</th>\n",
              "      <th>F_classif_score</th>\n",
              "    </tr>\n",
              "  </thead>\n",
              "  <tbody>\n",
              "    <tr>\n",
              "      <th>0</th>\n",
              "      <td>amount</td>\n",
              "      <td>37640.657952</td>\n",
              "    </tr>\n",
              "    <tr>\n",
              "      <th>1</th>\n",
              "      <td>isFlaggedFraud</td>\n",
              "      <td>12403.376850</td>\n",
              "    </tr>\n",
              "    <tr>\n",
              "      <th>2</th>\n",
              "      <td>step</td>\n",
              "      <td>6350.771614</td>\n",
              "    </tr>\n",
              "    <tr>\n",
              "      <th>3</th>\n",
              "      <td>nameDest</td>\n",
              "      <td>3070.758853</td>\n",
              "    </tr>\n",
              "    <tr>\n",
              "      <th>4</th>\n",
              "      <td>type</td>\n",
              "      <td>2762.765888</td>\n",
              "    </tr>\n",
              "    <tr>\n",
              "      <th>5</th>\n",
              "      <td>oldbalanceOrg</td>\n",
              "      <td>656.131724</td>\n",
              "    </tr>\n",
              "    <tr>\n",
              "      <th>6</th>\n",
              "      <td>newbalanceOrig</td>\n",
              "      <td>422.458367</td>\n",
              "    </tr>\n",
              "    <tr>\n",
              "      <th>7</th>\n",
              "      <td>oldbalanceDest</td>\n",
              "      <td>220.386451</td>\n",
              "    </tr>\n",
              "    <tr>\n",
              "      <th>8</th>\n",
              "      <td>newbalanceDest</td>\n",
              "      <td>1.823504</td>\n",
              "    </tr>\n",
              "    <tr>\n",
              "      <th>9</th>\n",
              "      <td>nameOrig</td>\n",
              "      <td>1.368524</td>\n",
              "    </tr>\n",
              "  </tbody>\n",
              "</table>\n",
              "</div>"
            ],
            "text/plain": [
              "          Feature  F_classif_score\n",
              "0          amount     37640.657952\n",
              "1  isFlaggedFraud     12403.376850\n",
              "2            step      6350.771614\n",
              "3        nameDest      3070.758853\n",
              "4            type      2762.765888\n",
              "5   oldbalanceOrg       656.131724\n",
              "6  newbalanceOrig       422.458367\n",
              "7  oldbalanceDest       220.386451\n",
              "8  newbalanceDest         1.823504\n",
              "9        nameOrig         1.368524"
            ]
          },
          "execution_count": 76,
          "metadata": {},
          "output_type": "execute_result"
        }
      ],
      "source": [
        "# ANOVA F-value between label/feature\n",
        "\n",
        "from sklearn.feature_selection import SelectKBest\n",
        "from sklearn.feature_selection import f_classif\n",
        "\n",
        "best_feature1 = SelectKBest(score_func = f_classif, k = 'all')\n",
        "fitting1 = best_feature1.fit(X,Y)\n",
        "scores1 = pd.DataFrame(fitting1.scores_)\n",
        "columns1 = pd.DataFrame(X.columns)\n",
        "feat_score1 = pd.concat([columns1, scores1], axis = 1)\n",
        "feat_score1.columns = ['Feature', 'F_classif_score']\n",
        "k1 = feat_score1.nlargest(10, 'F_classif_score')\n",
        "k1.reset_index(drop = True, inplace = True)\n",
        "\n",
        "k1.sort_values(by = 'F_classif_score', ascending = False)"
      ]
    },
    {
      "cell_type": "code",
      "execution_count": 77,
      "metadata": {
        "id": "PPjROEBcWzkF"
      },
      "outputs": [],
      "source": [
        "# ---------------Feature selection------------------------\n",
        "x = df[['type', 'amount', 'nameOrig', 'oldbalanceOrg', 'newbalanceOrig', 'nameDest', 'oldbalanceDest', 'newbalanceDest', 'step']]\n",
        "\n",
        "y = df.isFraud"
      ]
    },
    {
      "cell_type": "markdown",
      "metadata": {
        "id": "4i8DfyzHMQIO"
      },
      "source": [
        "Fixing the imbalance"
      ]
    },
    {
      "cell_type": "code",
      "execution_count": 78,
      "metadata": {
        "colab": {
          "base_uri": "https://localhost:8080/",
          "height": 443
        },
        "id": "kN9df7CUeUId",
        "outputId": "77c0a991-9bb7-4663-99b8-8c3b47f6ff02"
      },
      "outputs": [
        {
          "data": {
            "text/html": [
              "<div>\n",
              "<style scoped>\n",
              "    .dataframe tbody tr th:only-of-type {\n",
              "        vertical-align: middle;\n",
              "    }\n",
              "\n",
              "    .dataframe tbody tr th {\n",
              "        vertical-align: top;\n",
              "    }\n",
              "\n",
              "    .dataframe thead th {\n",
              "        text-align: right;\n",
              "    }\n",
              "</style>\n",
              "<table border=\"1\" class=\"dataframe\">\n",
              "  <thead>\n",
              "    <tr style=\"text-align: right;\">\n",
              "      <th></th>\n",
              "      <th>step</th>\n",
              "      <th>type</th>\n",
              "      <th>amount</th>\n",
              "      <th>nameOrig</th>\n",
              "      <th>oldbalanceOrg</th>\n",
              "      <th>newbalanceOrig</th>\n",
              "      <th>nameDest</th>\n",
              "      <th>oldbalanceDest</th>\n",
              "      <th>newbalanceDest</th>\n",
              "      <th>isFraud</th>\n",
              "      <th>isFlaggedFraud</th>\n",
              "    </tr>\n",
              "  </thead>\n",
              "  <tbody>\n",
              "    <tr>\n",
              "      <th>0</th>\n",
              "      <td>0.404707</td>\n",
              "      <td>1</td>\n",
              "      <td>-0.058123</td>\n",
              "      <td>1693730</td>\n",
              "      <td>-0.284397</td>\n",
              "      <td>-0.292442</td>\n",
              "      <td>360111</td>\n",
              "      <td>-0.176849</td>\n",
              "      <td>-0.158044</td>\n",
              "      <td>0</td>\n",
              "      <td>0</td>\n",
              "    </tr>\n",
              "    <tr>\n",
              "      <th>1</th>\n",
              "      <td>0.215010</td>\n",
              "      <td>0</td>\n",
              "      <td>-0.255689</td>\n",
              "      <td>3595362</td>\n",
              "      <td>0.386620</td>\n",
              "      <td>0.383333</td>\n",
              "      <td>161409</td>\n",
              "      <td>-0.003255</td>\n",
              "      <td>-0.043771</td>\n",
              "      <td>0</td>\n",
              "      <td>0</td>\n",
              "    </tr>\n",
              "    <tr>\n",
              "      <th>2</th>\n",
              "      <td>-1.618732</td>\n",
              "      <td>3</td>\n",
              "      <td>-0.217085</td>\n",
              "      <td>5350802</td>\n",
              "      <td>-0.285185</td>\n",
              "      <td>-0.292442</td>\n",
              "      <td>1928623</td>\n",
              "      <td>-0.323814</td>\n",
              "      <td>-0.333411</td>\n",
              "      <td>0</td>\n",
              "      <td>0</td>\n",
              "    </tr>\n",
              "    <tr>\n",
              "      <th>3</th>\n",
              "      <td>-0.058998</td>\n",
              "      <td>1</td>\n",
              "      <td>0.009237</td>\n",
              "      <td>885180</td>\n",
              "      <td>-0.284680</td>\n",
              "      <td>-0.292442</td>\n",
              "      <td>116063</td>\n",
              "      <td>0.143664</td>\n",
              "      <td>0.149555</td>\n",
              "      <td>0</td>\n",
              "      <td>0</td>\n",
              "    </tr>\n",
              "    <tr>\n",
              "      <th>4</th>\n",
              "      <td>0.777076</td>\n",
              "      <td>3</td>\n",
              "      <td>-0.286983</td>\n",
              "      <td>1696745</td>\n",
              "      <td>-0.288716</td>\n",
              "      <td>-0.292442</td>\n",
              "      <td>900343</td>\n",
              "      <td>-0.323814</td>\n",
              "      <td>-0.333411</td>\n",
              "      <td>0</td>\n",
              "      <td>0</td>\n",
              "    </tr>\n",
              "    <tr>\n",
              "      <th>...</th>\n",
              "      <td>...</td>\n",
              "      <td>...</td>\n",
              "      <td>...</td>\n",
              "      <td>...</td>\n",
              "      <td>...</td>\n",
              "      <td>...</td>\n",
              "      <td>...</td>\n",
              "      <td>...</td>\n",
              "      <td>...</td>\n",
              "      <td>...</td>\n",
              "      <td>...</td>\n",
              "    </tr>\n",
              "    <tr>\n",
              "      <th>23208</th>\n",
              "      <td>3.510123</td>\n",
              "      <td>1</td>\n",
              "      <td>0.264665</td>\n",
              "      <td>5651847</td>\n",
              "      <td>-0.171108</td>\n",
              "      <td>-0.292442</td>\n",
              "      <td>505863</td>\n",
              "      <td>-0.323814</td>\n",
              "      <td>-0.240959</td>\n",
              "      <td>1</td>\n",
              "      <td>0</td>\n",
              "    </tr>\n",
              "    <tr>\n",
              "      <th>23209</th>\n",
              "      <td>3.510123</td>\n",
              "      <td>4</td>\n",
              "      <td>10.153953</td>\n",
              "      <td>1737278</td>\n",
              "      <td>1.896491</td>\n",
              "      <td>-0.292442</td>\n",
              "      <td>260949</td>\n",
              "      <td>-0.323814</td>\n",
              "      <td>-0.333411</td>\n",
              "      <td>1</td>\n",
              "      <td>0</td>\n",
              "    </tr>\n",
              "    <tr>\n",
              "      <th>23210</th>\n",
              "      <td>3.510123</td>\n",
              "      <td>1</td>\n",
              "      <td>10.153953</td>\n",
              "      <td>533958</td>\n",
              "      <td>1.896491</td>\n",
              "      <td>-0.292442</td>\n",
              "      <td>108224</td>\n",
              "      <td>-0.303665</td>\n",
              "      <td>1.403027</td>\n",
              "      <td>1</td>\n",
              "      <td>0</td>\n",
              "    </tr>\n",
              "    <tr>\n",
              "      <th>23211</th>\n",
              "      <td>3.510123</td>\n",
              "      <td>4</td>\n",
              "      <td>1.109765</td>\n",
              "      <td>2252932</td>\n",
              "      <td>0.005581</td>\n",
              "      <td>-0.292442</td>\n",
              "      <td>319713</td>\n",
              "      <td>-0.323814</td>\n",
              "      <td>-0.333411</td>\n",
              "      <td>1</td>\n",
              "      <td>0</td>\n",
              "    </tr>\n",
              "    <tr>\n",
              "      <th>23212</th>\n",
              "      <td>3.510123</td>\n",
              "      <td>1</td>\n",
              "      <td>1.109765</td>\n",
              "      <td>919229</td>\n",
              "      <td>0.005581</td>\n",
              "      <td>-0.292442</td>\n",
              "      <td>534595</td>\n",
              "      <td>1.591383</td>\n",
              "      <td>1.669812</td>\n",
              "      <td>1</td>\n",
              "      <td>0</td>\n",
              "    </tr>\n",
              "  </tbody>\n",
              "</table>\n",
              "<p>23213 rows × 11 columns</p>\n",
              "</div>"
            ],
            "text/plain": [
              "           step  type     amount  nameOrig  oldbalanceOrg  newbalanceOrig  \\\n",
              "0      0.404707     1  -0.058123   1693730      -0.284397       -0.292442   \n",
              "1      0.215010     0  -0.255689   3595362       0.386620        0.383333   \n",
              "2     -1.618732     3  -0.217085   5350802      -0.285185       -0.292442   \n",
              "3     -0.058998     1   0.009237    885180      -0.284680       -0.292442   \n",
              "4      0.777076     3  -0.286983   1696745      -0.288716       -0.292442   \n",
              "...         ...   ...        ...       ...            ...             ...   \n",
              "23208  3.510123     1   0.264665   5651847      -0.171108       -0.292442   \n",
              "23209  3.510123     4  10.153953   1737278       1.896491       -0.292442   \n",
              "23210  3.510123     1  10.153953    533958       1.896491       -0.292442   \n",
              "23211  3.510123     4   1.109765   2252932       0.005581       -0.292442   \n",
              "23212  3.510123     1   1.109765    919229       0.005581       -0.292442   \n",
              "\n",
              "       nameDest  oldbalanceDest  newbalanceDest  isFraud  isFlaggedFraud  \n",
              "0        360111       -0.176849       -0.158044        0               0  \n",
              "1        161409       -0.003255       -0.043771        0               0  \n",
              "2       1928623       -0.323814       -0.333411        0               0  \n",
              "3        116063        0.143664        0.149555        0               0  \n",
              "4        900343       -0.323814       -0.333411        0               0  \n",
              "...         ...             ...             ...      ...             ...  \n",
              "23208    505863       -0.323814       -0.240959        1               0  \n",
              "23209    260949       -0.323814       -0.333411        1               0  \n",
              "23210    108224       -0.303665        1.403027        1               0  \n",
              "23211    319713       -0.323814       -0.333411        1               0  \n",
              "23212    534595        1.591383        1.669812        1               0  \n",
              "\n",
              "[23213 rows x 11 columns]"
            ]
          },
          "execution_count": 78,
          "metadata": {},
          "output_type": "execute_result"
        }
      ],
      "source": [
        "#----------------------------------Under Sampling-------------------------------\n",
        "temdf = df.loc[df.isFraud== 0] #------------------------------------------------ locate class of 0\n",
        "temdf = df.sample(15000)\n",
        "new_data = pd.concat([temdf, df.loc[df.isFraud== 1]], axis = 0) #------------------- concat the sample of class of 0 and the class of 1\n",
        "new_data.reset_index(drop = True, inplace = True) #--------------------------------- rest the index\n",
        "new_data"
      ]
    },
    {
      "cell_type": "markdown",
      "metadata": {
        "id": "l13uhBKP0_0T"
      },
      "source": [
        "<h1>Phase Three: Model Training and Testing</h1>"
      ]
    },
    {
      "cell_type": "code",
      "execution_count": 79,
      "metadata": {
        "id": "FFGX-u5rjdZA"
      },
      "outputs": [],
      "source": [
        "#split into train and test\n",
        "from sklearn.model_selection import train_test_split\n",
        "x = new_data.drop('isFraud',axis = 1)\n",
        "y = new_data.isFraud\n",
        "\n",
        "xtrain,xtest,ytrain,ytest = train_test_split(x, y, test_size = 0.20, random_state = 42, stratify = y)\n",
        "\n"
      ]
    },
    {
      "cell_type": "code",
      "execution_count": 80,
      "metadata": {
        "colab": {
          "base_uri": "https://localhost:8080/",
          "height": 466
        },
        "id": "RcvgAGQClZaY",
        "outputId": "00b25c6f-a271-4978-82cd-f45526cb2e0f"
      },
      "outputs": [
        {
          "data": {
            "text/plain": [
              "<Axes: xlabel='isFraud', ylabel='count'>"
            ]
          },
          "execution_count": 80,
          "metadata": {},
          "output_type": "execute_result"
        },
        {
          "data": {
            "image/png": "[encoded data removed]",
            "text/plain": [
              "<Figure size 640x480 with 1 Axes>"
            ]
          },
          "metadata": {},
          "output_type": "display_data"
        }
      ],
      "source": [
        "sns.countplot(x = ytrain)"
      ]
    },
    {
      "cell_type": "code",
      "execution_count": 81,
      "metadata": {
        "id": "F76iU9lrmgMy"
      },
      "outputs": [],
      "source": [
        "# oversampling the train dataset using ADASYN\n",
        "# %pip install imbalanced-learn\n",
        "\n",
        "from imblearn.over_sampling import ADASYN\n",
        "\n",
        "ada = ADASYN(random_state=1)\n",
        "xtrain_ada, ytrain_ada = ada.fit_resample(xtrain, ytrain)"
      ]
    },
    {
      "cell_type": "code",
      "execution_count": 82,
      "metadata": {
        "colab": {
          "base_uri": "https://localhost:8080/",
          "height": 475
        },
        "id": "pf1bAWvvnS4H",
        "outputId": "8cbc6dc3-9ecc-4a36-846e-8f32978c816b"
      },
      "outputs": [
        {
          "data": {
            "text/plain": [
              "<Axes: xlabel='isFraud', ylabel='count'>"
            ]
          },
          "execution_count": 82,
          "metadata": {},
          "output_type": "execute_result"
        },
        {
          "data": {
            "image/png": "[encoded data removed]",
            "text/plain": [
              "<Figure size 640x480 with 1 Axes>"
            ]
          },
          "metadata": {},
          "output_type": "display_data"
        }
      ],
      "source": [
        "sns.set(style = 'darkgrid')\n",
        "sns.countplot(x = ytrain_ada)"
      ]
    },
    {
      "cell_type": "code",
      "execution_count": 83,
      "metadata": {
        "colab": {
          "base_uri": "https://localhost:8080/"
        },
        "id": "bxCH49IEqf6T",
        "outputId": "402a20ae-6293-4c70-c75c-733ec40533d7"
      },
      "outputs": [
        {
          "name": "stdout",
          "output_type": "stream",
          "text": [
            "              precision    recall  f1-score   support\n",
            "\n",
            "           0       1.00      0.34      0.50     11983\n",
            "           1       0.61      1.00      0.76     12565\n",
            "\n",
            "    accuracy                           0.68     24548\n",
            "   macro avg       0.81      0.67      0.63     24548\n",
            "weighted avg       0.80      0.68      0.63     24548\n",
            "\n"
          ]
        }
      ],
      "source": [
        "# -----------------NAIVE BAYES-----------------------\n",
        "from sklearn.naive_bayes import GaussianNB\n",
        "from sklearn.metrics import classification_report\n",
        "from sklearn.metrics import accuracy_score\n",
        "\n",
        "gnb_Model = GaussianNB()\n",
        "gnb_Model.fit(xtrain_ada, ytrain_ada)\n",
        "\n",
        "# make predictions on the training data\n",
        "gnb_train_pred = gnb_Model.predict(xtrain_ada)\n",
        "\n",
        "# print classification report\n",
        "print(classification_report(ytrain_ada, gnb_train_pred))"
      ]
    },
    {
      "cell_type": "code",
      "execution_count": 84,
      "metadata": {
        "colab": {
          "base_uri": "https://localhost:8080/"
        },
        "id": "YO6M_Y7rbHIA",
        "outputId": "dfc4d4c4-783c-45b9-a0ce-7a6f6ccc6a08"
      },
      "outputs": [
        {
          "name": "stdout",
          "output_type": "stream",
          "text": [
            "              precision    recall  f1-score   support\n",
            "\n",
            "           0       0.87      0.68      0.76     11983\n",
            "           1       0.75      0.91      0.82     12565\n",
            "\n",
            "    accuracy                           0.80     24548\n",
            "   macro avg       0.81      0.79      0.79     24548\n",
            "weighted avg       0.81      0.80      0.79     24548\n",
            "\n"
          ]
        }
      ],
      "source": [
        "#--------KNeighbor Classifier---------------\n",
        "from sklearn.neighbors import KNeighborsClassifier\n",
        "knn_Model = KNeighborsClassifier(n_neighbors=5)\n",
        "knn_Model.fit(xtrain_ada, ytrain_ada)\n",
        "\n",
        "#make predictions on the training data\n",
        "KNN_train_pred = knn_Model.predict(xtrain_ada)\n",
        "\n",
        "\n",
        "# print classification report\n",
        "print(classification_report(ytrain_ada, KNN_train_pred))\n"
      ]
    },
    {
      "cell_type": "code",
      "execution_count": 85,
      "metadata": {
        "colab": {
          "base_uri": "https://localhost:8080/"
        },
        "id": "0dBETmtgYnOR",
        "outputId": "1e7c9714-9d9d-4edc-e767-4e4ba0843a13"
      },
      "outputs": [
        {
          "name": "stdout",
          "output_type": "stream",
          "text": [
            "              precision    recall  f1-score   support\n",
            "\n",
            "           0       1.00      0.99      0.99     11983\n",
            "           1       0.99      1.00      0.99     12565\n",
            "\n",
            "    accuracy                           0.99     24548\n",
            "   macro avg       0.99      0.99      0.99     24548\n",
            "weighted avg       0.99      0.99      0.99     24548\n",
            "\n"
          ]
        }
      ],
      "source": [
        "#---------------Gradient Boosting Classifier----------------\n",
        "from sklearn.ensemble import GradientBoostingClassifier\n",
        "# evaluate the model\n",
        "gbc_model = GradientBoostingClassifier()\n",
        "\n",
        "# fit the model to the training data\n",
        "gbc_model.fit(xtrain_ada, ytrain_ada)\n",
        "\n",
        "#make predictions on the training data\n",
        "gbc_train_pred = gbc_model.predict(xtrain_ada)\n",
        "\n",
        "\n",
        "# print classification report\n",
        "print(classification_report(ytrain_ada, gbc_train_pred))\n"
      ]
    },
    {
      "cell_type": "code",
      "execution_count": 86,
      "metadata": {
        "colab": {
          "base_uri": "https://localhost:8080/"
        },
        "id": "uu0brVt6orgL",
        "outputId": "ac034a46-63e1-4964-f235-ceeadb717944"
      },
      "outputs": [
        {
          "name": "stdout",
          "output_type": "stream",
          "text": [
            "Accuracy: 0.99\n",
            "              precision    recall  f1-score   support\n",
            "\n",
            "           0       0.99      0.98      0.99     11983\n",
            "           1       0.98      0.99      0.99     12565\n",
            "\n",
            "    accuracy                           0.99     24548\n",
            "   macro avg       0.99      0.99      0.99     24548\n",
            "weighted avg       0.99      0.99      0.99     24548\n",
            "\n"
          ]
        }
      ],
      "source": [
        "#------------------RANDOM FOREST------------------\n",
        "\n",
        "from sklearn.ensemble import RandomForestClassifier\n",
        "from sklearn.metrics import classification_report\n",
        "from sklearn.metrics import accuracy_score\n",
        "\n",
        " #create a RandomForestClassifirer instance\n",
        "forestclas_Model = RandomForestClassifier(criterion = \"gini\", max_depth=8, min_samples_split= 10, random_state= 42)\n",
        "\n",
        "# #  fit the model to the training data\n",
        "forestclas_Model.fit(xtrain_ada, ytrain_ada)\n",
        "\n",
        "# make predictions on the training data\n",
        "train_pred = forestclas_Model.predict(xtrain_ada)\n",
        "\n",
        "# Calculate accuracy\n",
        "accuracy = accuracy_score(ytrain_ada, train_pred)\n",
        "print(f\"Accuracy: {accuracy:.2f}\")\n",
        "\n",
        "# print classification report\n",
        "print(classification_report(ytrain_ada, train_pred))"
      ]
    },
    {
      "cell_type": "code",
      "execution_count": 87,
      "metadata": {
        "colab": {
          "base_uri": "https://localhost:8080/"
        },
        "id": "U1WHNJQJq0yN",
        "outputId": "fb308352-811a-417e-8148-c68c9c5f5035"
      },
      "outputs": [
        {
          "name": "stdout",
          "output_type": "stream",
          "text": [
            "                          Model  Accuracy\n",
            "0                   Naive Bayes  0.675778\n",
            "1         KNeighbors Classifier  0.795258\n",
            "2  Gradient Boosting Classifier  0.990345\n",
            "3      Random Forest Classifier  0.999959\n"
          ]
        }
      ],
      "source": [
        "# Initialize and train your models\n",
        "models = {\n",
        "    'Naive Bayes': GaussianNB(),\n",
        "    'KNeighbors Classifier': KNeighborsClassifier(),\n",
        "    'Gradient Boosting Classifier': GradientBoostingClassifier(),\n",
        "    'Random Forest Classifier': RandomForestClassifier()\n",
        "}\n",
        "\n",
        "model_accuracies = []\n",
        "\n",
        "for model_name, model in models.items():\n",
        "    model.fit(xtrain_ada, ytrain_ada)\n",
        "    y_pred = model.predict(xtrain_ada)\n",
        "    accuracy = accuracy_score(ytrain_ada, y_pred)\n",
        "    model_accuracies.append({'Model': model_name, 'Accuracy': accuracy})\n",
        "\n",
        "# Create a DataFrame from the model accuracies\n",
        "result = pd.DataFrame(model_accuracies)\n",
        " \n",
        "# Print the result\n",
        "print(result)"
      ]
    },
    {
      "cell_type": "markdown",
      "metadata": {},
      "source": [
        "<h3>Optimal Model Selection</h3>"
      ]
    },
    {
      "cell_type": "markdown",
      "metadata": {
        "id": "sqKRXEEtCYCe"
      },
      "source": [
        "The Random Forest Model is chosen as the optimal model because of the folloing metrics:\n",
        "\n",
        "High Accuracy: The Random Forest model has achieved a perfect accuracy of 0.99 (99%), which means that it correctly classifies all transactions in your dataset. \n",
        "\n",
        "Recall: Recall, also known as sensitivity or true positive rate, is the ratio of true positives to the sum of true positives and false negatives. For class 0, the recall is 0.98, which means the model correctly identified 98% of actual non-fraudulent transactions. For class 1, the recall is 0.99, indicating that the model captured 99% of actual fraudulent transactions.\n",
        "\n",
        "Impressive F1-Score: The F1-Score is a metric that balances precision and recall. A high F1-Score (0.99) indicates that the model is good at correctly identifying both fraudulent and non-fraudulent transactions while minimizing false positives and false negatives. This balance is crucial in fraud detection, where you want to minimize both types of errors.\n",
        "\n",
        "Support: Support is the number of occurrences of each class in your dataset. In your case, there are 11,983 instances of non-fraudulent transactions and 12,565 instances of fraudulent transactions."
      ]
    },
    {
      "cell_type": "code",
      "execution_count": 88,
      "metadata": {
        "colab": {
          "base_uri": "https://localhost:8080/"
        },
        "id": "l2ouZ-Ht0Fe5",
        "outputId": "18a11eaa-60a5-4847-aecd-1be70bb322f5"
      },
      "outputs": [],
      "source": [
        "import joblib\n",
        "\n",
        "# Save the model\n",
        "# joblib.dump(forestclas_Model, 'fraud_detection.pkl')\n",
        "\n",
        "import pickle\n",
        "pickle.dump(forestclas_Model, open('online_fraud_detection.pkl', 'wb'))\n"
      ]
    }
  ],
  "metadata": {
    "accelerator": "TPU",
    "colab": {
      "provenance": []
    },
    "kernelspec": {
      "display_name": "Python 3",
      "name": "python3"
    },
    "language_info": {
      "codemirror_mode": {
        "name": "ipython",
        "version": 3
      },
      "file_extension": ".py",
      "mimetype": "text/x-python",
      "name": "python",
      "nbconvert_exporter": "python",
      "pygments_lexer": "ipython3",
      "version": "3.11.1"
    }
  },
  "nbformat": 4,
  "nbformat_minor": 0
}
